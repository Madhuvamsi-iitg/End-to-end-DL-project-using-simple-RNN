{
 "cells": [
  {
   "cell_type": "code",
   "execution_count": 28,
   "metadata": {},
   "outputs": [],
   "source": [
    "# Step 1: Import Libraries and Load the Model\n",
    "import numpy as np\n",
    "import tensorflow as tf\n",
    "from tensorflow.keras.datasets import imdb\n",
    "from tensorflow.keras.preprocessing import sequence\n",
    "from tensorflow.keras.models import load_model"
   ]
  },
  {
   "cell_type": "code",
   "execution_count": 29,
   "metadata": {},
   "outputs": [],
   "source": [
    "# Load the IMDB dataset word index\n",
    "word_index = imdb.get_word_index()\n",
    "reverse_word_index = {value: key for key, value in word_index.items()}"
   ]
  },
  {
   "cell_type": "code",
   "execution_count": 30,
   "metadata": {},
   "outputs": [
    {
     "name": "stderr",
     "output_type": "stream",
     "text": [
      "WARNING:absl:Compiled the loaded model, but the compiled metrics have yet to be built. `model.compile_metrics` will be empty until you train or evaluate the model.\n"
     ]
    },
    {
     "data": {
      "text/html": [
       "<pre style=\"white-space:pre;overflow-x:auto;line-height:normal;font-family:Menlo,'DejaVu Sans Mono',consolas,'Courier New',monospace\"><span style=\"font-weight: bold\">Model: \"sequential_3\"</span>\n",
       "</pre>\n"
      ],
      "text/plain": [
       "\u001b[1mModel: \"sequential_3\"\u001b[0m\n"
      ]
     },
     "metadata": {},
     "output_type": "display_data"
    },
    {
     "data": {
      "text/html": [
       "<pre style=\"white-space:pre;overflow-x:auto;line-height:normal;font-family:Menlo,'DejaVu Sans Mono',consolas,'Courier New',monospace\">┏━━━━━━━━━━━━━━━━━━━━━━━━━━━━━━━━━┳━━━━━━━━━━━━━━━━━━━━━━━━┳━━━━━━━━━━━━━━━┓\n",
       "┃<span style=\"font-weight: bold\"> Layer (type)                    </span>┃<span style=\"font-weight: bold\"> Output Shape           </span>┃<span style=\"font-weight: bold\">       Param # </span>┃\n",
       "┡━━━━━━━━━━━━━━━━━━━━━━━━━━━━━━━━━╇━━━━━━━━━━━━━━━━━━━━━━━━╇━━━━━━━━━━━━━━━┩\n",
       "│ embedding_3 (<span style=\"color: #0087ff; text-decoration-color: #0087ff\">Embedding</span>)         │ (<span style=\"color: #00af00; text-decoration-color: #00af00\">32</span>, <span style=\"color: #00af00; text-decoration-color: #00af00\">500</span>, <span style=\"color: #00af00; text-decoration-color: #00af00\">128</span>)         │     <span style=\"color: #00af00; text-decoration-color: #00af00\">1,280,000</span> │\n",
       "├─────────────────────────────────┼────────────────────────┼───────────────┤\n",
       "│ simple_rnn_3 (<span style=\"color: #0087ff; text-decoration-color: #0087ff\">SimpleRNN</span>)        │ (<span style=\"color: #00af00; text-decoration-color: #00af00\">32</span>, <span style=\"color: #00af00; text-decoration-color: #00af00\">128</span>)              │        <span style=\"color: #00af00; text-decoration-color: #00af00\">32,896</span> │\n",
       "├─────────────────────────────────┼────────────────────────┼───────────────┤\n",
       "│ dense_3 (<span style=\"color: #0087ff; text-decoration-color: #0087ff\">Dense</span>)                 │ (<span style=\"color: #00af00; text-decoration-color: #00af00\">32</span>, <span style=\"color: #00af00; text-decoration-color: #00af00\">1</span>)                │           <span style=\"color: #00af00; text-decoration-color: #00af00\">129</span> │\n",
       "└─────────────────────────────────┴────────────────────────┴───────────────┘\n",
       "</pre>\n"
      ],
      "text/plain": [
       "┏━━━━━━━━━━━━━━━━━━━━━━━━━━━━━━━━━┳━━━━━━━━━━━━━━━━━━━━━━━━┳━━━━━━━━━━━━━━━┓\n",
       "┃\u001b[1m \u001b[0m\u001b[1mLayer (type)                   \u001b[0m\u001b[1m \u001b[0m┃\u001b[1m \u001b[0m\u001b[1mOutput Shape          \u001b[0m\u001b[1m \u001b[0m┃\u001b[1m \u001b[0m\u001b[1m      Param #\u001b[0m\u001b[1m \u001b[0m┃\n",
       "┡━━━━━━━━━━━━━━━━━━━━━━━━━━━━━━━━━╇━━━━━━━━━━━━━━━━━━━━━━━━╇━━━━━━━━━━━━━━━┩\n",
       "│ embedding_3 (\u001b[38;5;33mEmbedding\u001b[0m)         │ (\u001b[38;5;34m32\u001b[0m, \u001b[38;5;34m500\u001b[0m, \u001b[38;5;34m128\u001b[0m)         │     \u001b[38;5;34m1,280,000\u001b[0m │\n",
       "├─────────────────────────────────┼────────────────────────┼───────────────┤\n",
       "│ simple_rnn_3 (\u001b[38;5;33mSimpleRNN\u001b[0m)        │ (\u001b[38;5;34m32\u001b[0m, \u001b[38;5;34m128\u001b[0m)              │        \u001b[38;5;34m32,896\u001b[0m │\n",
       "├─────────────────────────────────┼────────────────────────┼───────────────┤\n",
       "│ dense_3 (\u001b[38;5;33mDense\u001b[0m)                 │ (\u001b[38;5;34m32\u001b[0m, \u001b[38;5;34m1\u001b[0m)                │           \u001b[38;5;34m129\u001b[0m │\n",
       "└─────────────────────────────────┴────────────────────────┴───────────────┘\n"
      ]
     },
     "metadata": {},
     "output_type": "display_data"
    },
    {
     "data": {
      "text/html": [
       "<pre style=\"white-space:pre;overflow-x:auto;line-height:normal;font-family:Menlo,'DejaVu Sans Mono',consolas,'Courier New',monospace\"><span style=\"font-weight: bold\"> Total params: </span><span style=\"color: #00af00; text-decoration-color: #00af00\">1,313,027</span> (5.01 MB)\n",
       "</pre>\n"
      ],
      "text/plain": [
       "\u001b[1m Total params: \u001b[0m\u001b[38;5;34m1,313,027\u001b[0m (5.01 MB)\n"
      ]
     },
     "metadata": {},
     "output_type": "display_data"
    },
    {
     "data": {
      "text/html": [
       "<pre style=\"white-space:pre;overflow-x:auto;line-height:normal;font-family:Menlo,'DejaVu Sans Mono',consolas,'Courier New',monospace\"><span style=\"font-weight: bold\"> Trainable params: </span><span style=\"color: #00af00; text-decoration-color: #00af00\">1,313,025</span> (5.01 MB)\n",
       "</pre>\n"
      ],
      "text/plain": [
       "\u001b[1m Trainable params: \u001b[0m\u001b[38;5;34m1,313,025\u001b[0m (5.01 MB)\n"
      ]
     },
     "metadata": {},
     "output_type": "display_data"
    },
    {
     "data": {
      "text/html": [
       "<pre style=\"white-space:pre;overflow-x:auto;line-height:normal;font-family:Menlo,'DejaVu Sans Mono',consolas,'Courier New',monospace\"><span style=\"font-weight: bold\"> Non-trainable params: </span><span style=\"color: #00af00; text-decoration-color: #00af00\">0</span> (0.00 B)\n",
       "</pre>\n"
      ],
      "text/plain": [
       "\u001b[1m Non-trainable params: \u001b[0m\u001b[38;5;34m0\u001b[0m (0.00 B)\n"
      ]
     },
     "metadata": {},
     "output_type": "display_data"
    },
    {
     "data": {
      "text/html": [
       "<pre style=\"white-space:pre;overflow-x:auto;line-height:normal;font-family:Menlo,'DejaVu Sans Mono',consolas,'Courier New',monospace\"><span style=\"font-weight: bold\"> Optimizer params: </span><span style=\"color: #00af00; text-decoration-color: #00af00\">2</span> (12.00 B)\n",
       "</pre>\n"
      ],
      "text/plain": [
       "\u001b[1m Optimizer params: \u001b[0m\u001b[38;5;34m2\u001b[0m (12.00 B)\n"
      ]
     },
     "metadata": {},
     "output_type": "display_data"
    }
   ],
   "source": [
    "# Load the pre-trained model with ReLU activation\n",
    "model = load_model('simpleRNN\\Simple_RNN_imdb.h5')\n",
    "model.summary()"
   ]
  },
  {
   "cell_type": "code",
   "execution_count": 31,
   "metadata": {},
   "outputs": [
    {
     "data": {
      "text/plain": [
       "[array([[-0.01665073, -0.00149359, -0.0072288 , ...,  0.04986225,\n",
       "         -0.0264191 ,  0.03134122],\n",
       "        [-0.07735386,  0.0073393 , -0.02889393, ...,  0.04385349,\n",
       "         -0.02828446,  0.03083769],\n",
       "        [ 0.03152389, -0.04876415, -0.00849111, ..., -0.01182411,\n",
       "         -0.00172777, -0.03590626],\n",
       "        ...,\n",
       "        [ 0.00432934,  0.02927554,  0.08651222, ..., -0.02104235,\n",
       "         -0.03956625,  0.03786973],\n",
       "        [ 0.03505427, -0.07751883,  0.0141174 , ...,  0.03579797,\n",
       "          0.0340843 ,  0.02244271],\n",
       "        [-0.00814899, -0.04086717, -0.0897348 , ..., -0.08362117,\n",
       "         -0.01373573, -0.01640732]], dtype=float32),\n",
       " array([[ 0.05733377, -0.09378152, -0.02599011, ..., -0.11503904,\n",
       "          0.08238267, -0.20186268],\n",
       "        [ 0.09778795,  0.1061257 ,  0.09209634, ..., -0.12753242,\n",
       "         -0.01752231,  0.20454389],\n",
       "        [-0.10613077, -0.00803993, -0.11345614, ..., -0.02211217,\n",
       "          0.03116345, -0.05860108],\n",
       "        ...,\n",
       "        [ 0.05151661,  0.00919521, -0.09697235, ...,  0.07406345,\n",
       "          0.12218244, -0.22865564],\n",
       "        [ 0.016462  ,  0.13910955,  0.05245699, ...,  0.00435389,\n",
       "         -0.07513919,  0.22477126],\n",
       "        [-0.05562731,  0.03879035,  0.14429443, ...,  0.03549608,\n",
       "          0.08512408, -0.23286916]], dtype=float32),\n",
       " array([[-0.1304879 ,  0.11655858, -0.10680275, ..., -0.10354283,\n",
       "         -0.07299854, -0.05694205],\n",
       "        [-0.1980667 ,  0.18904653,  0.13320567, ...,  0.07937054,\n",
       "         -0.02113029, -0.03813359],\n",
       "        [-0.0376658 ,  0.14592695,  0.01107741, ...,  0.03686159,\n",
       "         -0.00285059,  0.05531153],\n",
       "        ...,\n",
       "        [-0.02870355, -0.09654111,  0.18125546, ..., -0.11144226,\n",
       "         -0.105482  , -0.13829124],\n",
       "        [-0.01544714, -0.15079862, -0.00839495, ...,  0.04618917,\n",
       "         -0.07168671, -0.02038434],\n",
       "        [-0.0456374 , -0.16240375, -0.00258359, ...,  0.02776862,\n",
       "          0.08456624,  0.1842847 ]], dtype=float32),\n",
       " array([-1.53672751e-02, -5.00154076e-03,  2.10887776e-03,  1.17631657e-02,\n",
       "        -3.41258454e-03, -6.09784294e-03, -2.31715757e-02,  1.07417414e-02,\n",
       "        -4.63757385e-03, -9.26411804e-03,  2.06209626e-03,  3.50214634e-03,\n",
       "         9.81305446e-03, -1.69405788e-02,  5.17985690e-03, -5.69736445e-03,\n",
       "        -1.21892169e-02, -2.97232391e-03,  2.18518544e-03, -1.75642129e-03,\n",
       "         2.91689066e-03,  8.17621499e-03, -1.14936801e-02, -4.55757370e-03,\n",
       "         1.51110608e-02,  1.13365045e-02, -1.60016632e-03,  1.62743311e-02,\n",
       "         1.51970668e-03,  3.98445595e-03,  8.37750733e-03, -9.24101565e-04,\n",
       "         1.42458137e-02,  9.03226261e-04,  1.20259617e-02,  1.12346373e-02,\n",
       "        -5.66432253e-04,  7.11659202e-03,  8.91105912e-04,  2.14130078e-02,\n",
       "         3.48146702e-03,  7.85155967e-03,  1.83486822e-03,  1.00630196e-03,\n",
       "         1.30497722e-03, -1.58400461e-02, -1.45903835e-02,  1.53704016e-02,\n",
       "        -1.55292982e-02, -2.59769503e-02,  2.39339881e-02, -1.33710215e-02,\n",
       "         5.14674000e-03,  3.13107856e-03,  2.54316088e-02, -2.02998407e-02,\n",
       "         1.73437092e-02,  2.63759750e-03, -2.01673916e-04, -2.86011491e-02,\n",
       "         3.84811684e-03,  1.99875236e-02,  1.09060686e-02, -2.21221969e-02,\n",
       "        -5.13848150e-03, -2.13813037e-02, -1.00053912e-02,  1.54238595e-02,\n",
       "         1.69363245e-02,  1.30264480e-02, -1.01776654e-02, -1.51863564e-02,\n",
       "        -1.49574308e-02, -7.97062181e-03, -7.28026032e-03,  2.47713272e-02,\n",
       "        -5.23812510e-03,  1.75213232e-03,  1.58441141e-02, -6.08311442e-04,\n",
       "         7.18234899e-03,  6.13219221e-04,  5.30719990e-03,  1.47506013e-04,\n",
       "         1.94770247e-02, -1.50929727e-02, -5.12887212e-03,  7.32020428e-03,\n",
       "         1.07161119e-03, -9.34174471e-03, -3.52609530e-02,  3.42951640e-02,\n",
       "        -9.75042675e-03,  1.68106612e-03, -5.77117363e-03, -4.52802796e-03,\n",
       "         4.78875265e-03, -4.44853166e-03, -1.34800384e-02, -1.20575242e-02,\n",
       "         6.22346858e-03,  1.09890942e-02, -4.75401320e-02,  6.70372183e-03,\n",
       "        -3.23058944e-03,  1.70191154e-02,  5.09261247e-03,  5.86351985e-03,\n",
       "        -6.20929385e-03, -1.72265414e-02, -2.81733461e-02, -1.75456610e-02,\n",
       "         9.77046788e-03, -1.05282161e-02, -1.54148147e-05, -1.59090180e-02,\n",
       "         2.07105055e-02, -9.69928037e-03, -3.55057716e-02, -1.11862877e-03,\n",
       "        -1.64482258e-02, -1.69140045e-02,  1.01708798e-02, -2.30349824e-02,\n",
       "        -2.51080301e-02,  3.08099273e-03, -1.87813435e-02, -4.78416383e-02],\n",
       "       dtype=float32),\n",
       " array([[-0.1655785 ],\n",
       "        [-0.17434919],\n",
       "        [-0.11743023],\n",
       "        [-0.04940486],\n",
       "        [-0.1833798 ],\n",
       "        [-0.07286958],\n",
       "        [-0.22744994],\n",
       "        [ 0.04210699],\n",
       "        [-0.08093657],\n",
       "        [-0.07812353],\n",
       "        [ 0.05842765],\n",
       "        [ 0.11492802],\n",
       "        [-0.11366129],\n",
       "        [-0.23760186],\n",
       "        [-0.15817006],\n",
       "        [ 0.14003934],\n",
       "        [-0.19644235],\n",
       "        [ 0.22786097],\n",
       "        [ 0.21152264],\n",
       "        [-0.22558294],\n",
       "        [-0.24561478],\n",
       "        [-0.18142807],\n",
       "        [-0.02890889],\n",
       "        [ 0.03749314],\n",
       "        [ 0.12616664],\n",
       "        [ 0.20876622],\n",
       "        [-0.22695884],\n",
       "        [ 0.20259291],\n",
       "        [ 0.06060681],\n",
       "        [ 0.14893606],\n",
       "        [-0.24399382],\n",
       "        [ 0.0470416 ],\n",
       "        [ 0.00922563],\n",
       "        [-0.00470765],\n",
       "        [ 0.07304018],\n",
       "        [-0.22836632],\n",
       "        [-0.09230224],\n",
       "        [-0.2560082 ],\n",
       "        [ 0.00231041],\n",
       "        [ 0.15669405],\n",
       "        [-0.00285335],\n",
       "        [ 0.14591584],\n",
       "        [ 0.1718213 ],\n",
       "        [-0.2641924 ],\n",
       "        [-0.00318913],\n",
       "        [-0.0238707 ],\n",
       "        [-0.00268871],\n",
       "        [-0.05224355],\n",
       "        [ 0.15752767],\n",
       "        [-0.25001407],\n",
       "        [-0.14026609],\n",
       "        [-0.2890415 ],\n",
       "        [ 0.00907426],\n",
       "        [ 0.31099522],\n",
       "        [-0.1032355 ],\n",
       "        [ 0.36594564],\n",
       "        [ 0.15074554],\n",
       "        [-0.12680767],\n",
       "        [-0.06181019],\n",
       "        [-0.11132358],\n",
       "        [-0.00577571],\n",
       "        [ 0.00120374],\n",
       "        [ 0.1015882 ],\n",
       "        [-0.17755908],\n",
       "        [ 0.14626949],\n",
       "        [-0.03275711],\n",
       "        [-0.08006033],\n",
       "        [-0.21861728],\n",
       "        [-0.08372046],\n",
       "        [ 0.1328629 ],\n",
       "        [ 0.297845  ],\n",
       "        [-0.0259368 ],\n",
       "        [-0.12828961],\n",
       "        [-0.1937221 ],\n",
       "        [-0.02288436],\n",
       "        [ 0.19295336],\n",
       "        [-0.07716839],\n",
       "        [ 0.16341652],\n",
       "        [ 0.08717114],\n",
       "        [-0.12238169],\n",
       "        [-0.19536878],\n",
       "        [ 0.08809501],\n",
       "        [ 0.21627027],\n",
       "        [ 0.1023055 ],\n",
       "        [ 0.21914972],\n",
       "        [ 0.03177651],\n",
       "        [ 0.15337537],\n",
       "        [ 0.02157139],\n",
       "        [ 0.13002466],\n",
       "        [-0.13275954],\n",
       "        [-0.1058801 ],\n",
       "        [ 0.19802979],\n",
       "        [-0.10289109],\n",
       "        [-0.30455315],\n",
       "        [-0.1314542 ],\n",
       "        [-0.03177683],\n",
       "        [-0.12321753],\n",
       "        [ 0.13293189],\n",
       "        [-0.03599637],\n",
       "        [-0.0493117 ],\n",
       "        [ 0.19064264],\n",
       "        [-0.07648384],\n",
       "        [-0.20508814],\n",
       "        [-0.12692581],\n",
       "        [-0.14065781],\n",
       "        [ 0.0964976 ],\n",
       "        [-0.22353326],\n",
       "        [-0.17164813],\n",
       "        [ 0.01030746],\n",
       "        [ 0.01148288],\n",
       "        [ 0.181931  ],\n",
       "        [-0.18215227],\n",
       "        [-0.07845522],\n",
       "        [-0.04546561],\n",
       "        [ 0.13629688],\n",
       "        [-0.11339853],\n",
       "        [ 0.09183953],\n",
       "        [-0.01206725],\n",
       "        [-0.1975433 ],\n",
       "        [-0.14191356],\n",
       "        [-0.19859722],\n",
       "        [ 0.12838635],\n",
       "        [-0.20794299],\n",
       "        [-0.19380558],\n",
       "        [-0.10024305],\n",
       "        [ 0.09886723],\n",
       "        [-0.15731198],\n",
       "        [ 0.21984659]], dtype=float32),\n",
       " array([0.02884302], dtype=float32)]"
      ]
     },
     "execution_count": 31,
     "metadata": {},
     "output_type": "execute_result"
    }
   ],
   "source": [
    "model.get_weights()"
   ]
  },
  {
   "cell_type": "code",
   "execution_count": 32,
   "metadata": {},
   "outputs": [],
   "source": [
    "# Step 2: Helper Functions\n",
    "# Function to decode reviews\n",
    "def decode_review(encoded_review):\n",
    "    return ' '.join([reverse_word_index.get(i - 3, '?') for i in encoded_review])\n",
    "\n",
    "# Function to preprocess user input\n",
    "def preprocess_text(text):\n",
    "    words = text.lower().split()\n",
    "    encoded_review = [word_index.get(word, 2) + 3 for word in words]\n",
    "    padded_review = sequence.pad_sequences([encoded_review], maxlen=500)\n",
    "    return padded_review"
   ]
  },
  {
   "cell_type": "code",
   "execution_count": 33,
   "metadata": {},
   "outputs": [],
   "source": [
    "### Prediction  function\n",
    "\n",
    "def predict_sentiment(review):\n",
    "    preprocessed_input=preprocess_text(review)\n",
    "\n",
    "    prediction=model.predict(preprocessed_input)\n",
    "\n",
    "    sentiment = 'Positive' if prediction[0][0] > 0.5 else 'Negative'\n",
    "    \n",
    "    return sentiment, prediction[0][0]\n"
   ]
  },
  {
   "cell_type": "code",
   "execution_count": 34,
   "metadata": {},
   "outputs": [
    {
     "name": "stdout",
     "output_type": "stream",
     "text": [
      "\u001b[1m1/1\u001b[0m \u001b[32m━━━━━━━━━━━━━━━━━━━━\u001b[0m\u001b[37m\u001b[0m \u001b[1m0s\u001b[0m 81ms/step\n",
      "Review: This movie was fantastic! The acting was great and the plot was thrilling.\n",
      "Sentiment: Negative\n",
      "Prediction Score: 0.487038791179657\n"
     ]
    }
   ],
   "source": [
    "# Step 4: User Input and Prediction\n",
    "# Example review for prediction\n",
    "example_review = \"This movie was fantastic! The acting was great and the plot was thrilling.\"\n",
    "\n",
    "sentiment,score=predict_sentiment(example_review)\n",
    "\n",
    "print(f'Review: {example_review}')\n",
    "print(f'Sentiment: {sentiment}')\n",
    "print(f'Prediction Score: {score}')"
   ]
  },
  {
   "cell_type": "code",
   "execution_count": null,
   "metadata": {},
   "outputs": [],
   "source": []
  }
 ],
 "metadata": {
  "kernelspec": {
   "display_name": "venv",
   "language": "python",
   "name": "python3"
  },
  "language_info": {
   "codemirror_mode": {
    "name": "ipython",
    "version": 3
   },
   "file_extension": ".py",
   "mimetype": "text/x-python",
   "name": "python",
   "nbconvert_exporter": "python",
   "pygments_lexer": "ipython3",
   "version": "3.11.4"
  }
 },
 "nbformat": 4,
 "nbformat_minor": 2
}
